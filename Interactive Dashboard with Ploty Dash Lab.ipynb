{
 "cells": [
  {
   "cell_type": "code",
   "execution_count": 1,
   "metadata": {
    "colab": {
     "base_uri": "https://localhost:8080/"
    },
    "id": "KZ6EiB_SVPPw",
    "outputId": "0727c05c-0cbb-442b-97d5-33c5d44822d7"
   },
   "outputs": [
    {
     "name": "stdout",
     "output_type": "stream",
     "text": [
      "Requirement already satisfied: pandas in c:\\users\\saira khan\\anaconda3\\lib\\site-packages (1.4.2)\n",
      "Collecting dash\n",
      "  Downloading dash-2.9.1-py3-none-any.whl (10.2 MB)\n",
      "Requirement already satisfied: python-dateutil>=2.8.1 in c:\\users\\saira khan\\anaconda3\\lib\\site-packages (from pandas) (2.8.2)\n",
      "Requirement already satisfied: pytz>=2020.1 in c:\\users\\saira khan\\anaconda3\\lib\\site-packages (from pandas) (2021.3)\n",
      "Note: you may need to restart the kernel to use updated packages.\n",
      "Requirement already satisfied: numpy>=1.18.5 in c:\\users\\saira khan\\anaconda3\\lib\\site-packages (from pandas) (1.21.5)\n",
      "Requirement already satisfied: Flask>=1.0.4 in c:\\users\\saira khan\\anaconda3\\lib\\site-packages (from dash) (1.1.2)\n",
      "Collecting dash-html-components==2.0.0\n",
      "  Downloading dash_html_components-2.0.0-py3-none-any.whl (4.1 kB)\n",
      "Requirement already satisfied: plotly>=5.0.0 in c:\\users\\saira khan\\anaconda3\\lib\\site-packages (from dash) (5.6.0)\n",
      "Collecting dash-table==5.0.0\n",
      "  Downloading dash_table-5.0.0-py3-none-any.whl (3.9 kB)\n",
      "Collecting dash-core-components==2.0.0\n",
      "  Downloading dash_core_components-2.0.0-py3-none-any.whl (3.8 kB)\n",
      "Requirement already satisfied: click>=5.1 in c:\\users\\saira khan\\anaconda3\\lib\\site-packages (from Flask>=1.0.4->dash) (8.0.4)\n",
      "Requirement already satisfied: Jinja2>=2.10.1 in c:\\users\\saira khan\\anaconda3\\lib\\site-packages (from Flask>=1.0.4->dash) (2.11.3)\n",
      "Requirement already satisfied: Werkzeug>=0.15 in c:\\users\\saira khan\\anaconda3\\lib\\site-packages (from Flask>=1.0.4->dash) (2.0.3)\n",
      "Requirement already satisfied: itsdangerous>=0.24 in c:\\users\\saira khan\\anaconda3\\lib\\site-packages (from Flask>=1.0.4->dash) (2.0.1)\n",
      "Requirement already satisfied: colorama in c:\\users\\saira khan\\anaconda3\\lib\\site-packages (from click>=5.1->Flask>=1.0.4->dash) (0.4.4)\n",
      "Requirement already satisfied: MarkupSafe>=0.23 in c:\\users\\saira khan\\anaconda3\\lib\\site-packages (from Jinja2>=2.10.1->Flask>=1.0.4->dash) (2.0.1)\n",
      "Requirement already satisfied: tenacity>=6.2.0 in c:\\users\\saira khan\\anaconda3\\lib\\site-packages (from plotly>=5.0.0->dash) (8.0.1)\n",
      "Requirement already satisfied: six in c:\\users\\saira khan\\anaconda3\\lib\\site-packages (from plotly>=5.0.0->dash) (1.16.0)\n",
      "Installing collected packages: dash-table, dash-html-components, dash-core-components, dash\n",
      "Successfully installed dash-2.9.1 dash-core-components-2.0.0 dash-html-components-2.0.0 dash-table-5.0.0\n"
     ]
    }
   ],
   "source": [
    "pip install pandas dash"
   ]
  },
  {
   "cell_type": "code",
   "execution_count": null,
   "metadata": {
    "colab": {
     "base_uri": "https://localhost:8080/"
    },
    "id": "hBDlHXFDWdf-",
    "outputId": "a6bc52b8-ec0f-4e38-b8ca-85c46665e18e"
   },
   "outputs": [
    {
     "name": "stdout",
     "output_type": "stream",
     "text": [
      "Dash is running on http://127.0.0.1:8050/\n",
      "\n",
      " * Serving Flask app \"__main__\" (lazy loading)\n",
      " * Environment: production\n",
      "\u001b[31m   WARNING: This is a development server. Do not use it in a production deployment.\u001b[0m\n",
      "\u001b[2m   Use a production WSGI server instead.\u001b[0m\n",
      " * Debug mode: off\n"
     ]
    },
    {
     "name": "stderr",
     "output_type": "stream",
     "text": [
      " * Running on http://127.0.0.1:8050/ (Press CTRL+C to quit)\n",
      "127.0.0.1 - - [29/Mar/2023 22:26:09] \"GET / HTTP/1.1\" 200 -\n",
      "127.0.0.1 - - [29/Mar/2023 22:26:09] \"GET /_dash-component-suites/dash/deps/polyfill@7.v2_9_1m1680110568.12.1.min.js HTTP/1.1\" 200 -\n",
      "127.0.0.1 - - [29/Mar/2023 22:26:09] \"GET /_dash-component-suites/dash/deps/react@16.v2_9_1m1680110568.14.0.min.js HTTP/1.1\" 200 -\n",
      "127.0.0.1 - - [29/Mar/2023 22:26:09] \"GET /_dash-component-suites/dash/deps/react-dom@16.v2_9_1m1680110568.14.0.min.js HTTP/1.1\" 200 -\n",
      "127.0.0.1 - - [29/Mar/2023 22:26:09] \"GET /_dash-component-suites/dash/deps/prop-types@15.v2_9_1m1680110568.8.1.min.js HTTP/1.1\" 200 -\n",
      "127.0.0.1 - - [29/Mar/2023 22:26:10] \"GET /_dash-component-suites/dash/dcc/dash_core_components.v2_9_0m1680110568.js HTTP/1.1\" 200 -\n",
      "127.0.0.1 - - [29/Mar/2023 22:26:10] \"GET /_dash-component-suites/dash/dash-renderer/build/dash_renderer.v2_9_1m1680110567.min.js HTTP/1.1\" 200 -\n",
      "127.0.0.1 - - [29/Mar/2023 22:26:10] \"GET /_dash-component-suites/dash/dcc/dash_core_components-shared.v2_9_0m1680110568.js HTTP/1.1\" 200 -\n",
      "127.0.0.1 - - [29/Mar/2023 22:26:10] \"GET /_dash-component-suites/dash/dash_table/bundle.v5_2_3m1680110567.js HTTP/1.1\" 200 -\n",
      "127.0.0.1 - - [29/Mar/2023 22:26:10] \"GET /_dash-component-suites/dash/html/dash_html_components.v2_0_9m1680110569.min.js HTTP/1.1\" 200 -\n",
      "127.0.0.1 - - [29/Mar/2023 22:26:10] \"GET /_dash-layout HTTP/1.1\" 200 -\n",
      "127.0.0.1 - - [29/Mar/2023 22:26:10] \"GET /_dash-dependencies HTTP/1.1\" 200 -\n",
      "127.0.0.1 - - [29/Mar/2023 22:26:10] \"GET /_favicon.ico?v=2.9.1 HTTP/1.1\" 200 -\n",
      "127.0.0.1 - - [29/Mar/2023 22:26:10] \"GET /_dash-component-suites/dash/dcc/async-dropdown.js HTTP/1.1\" 200 -\n",
      "127.0.0.1 - - [29/Mar/2023 22:26:10] \"GET /_dash-component-suites/dash/dcc/async-graph.js HTTP/1.1\" 200 -\n",
      "127.0.0.1 - - [29/Mar/2023 22:26:10] \"GET /_dash-component-suites/dash/dcc/async-slider.js HTTP/1.1\" 200 -\n",
      "127.0.0.1 - - [29/Mar/2023 22:26:10] \"GET /_dash-component-suites/dash/dcc/async-plotlyjs.js HTTP/1.1\" 200 -\n",
      "127.0.0.1 - - [29/Mar/2023 22:26:34] \"GET / HTTP/1.1\" 200 -\n",
      "127.0.0.1 - - [29/Mar/2023 22:26:35] \"GET /_dash-layout HTTP/1.1\" 200 -\n",
      "127.0.0.1 - - [29/Mar/2023 22:26:35] \"GET /_dash-dependencies HTTP/1.1\" 200 -\n",
      "127.0.0.1 - - [29/Mar/2023 22:26:35] \"GET /_dash-component-suites/dash/dcc/async-dropdown.js HTTP/1.1\" 200 -\n",
      "127.0.0.1 - - [29/Mar/2023 22:26:35] \"GET /_dash-component-suites/dash/dcc/async-graph.js HTTP/1.1\" 200 -\n",
      "127.0.0.1 - - [29/Mar/2023 22:26:35] \"GET /_dash-component-suites/dash/dcc/async-plotlyjs.js HTTP/1.1\" 200 -\n",
      "127.0.0.1 - - [29/Mar/2023 22:26:35] \"GET /_dash-component-suites/dash/dcc/async-slider.js HTTP/1.1\" 200 -\n",
      "127.0.0.1 - - [29/Mar/2023 22:26:59] \"POST /_dash-update-component HTTP/1.1\" 200 -\n",
      "127.0.0.1 - - [29/Mar/2023 22:26:59] \"POST /_dash-update-component HTTP/1.1\" 200 -\n",
      "127.0.0.1 - - [29/Mar/2023 22:26:59] \"POST /_dash-update-component HTTP/1.1\" 200 -\n",
      "127.0.0.1 - - [29/Mar/2023 22:26:59] \"POST /_dash-update-component HTTP/1.1\" 200 -\n",
      "127.0.0.1 - - [29/Mar/2023 22:27:00] \"POST /_dash-update-component HTTP/1.1\" 200 -\n",
      "127.0.0.1 - - [29/Mar/2023 22:27:00] \"POST /_dash-update-component HTTP/1.1\" 200 -\n",
      "127.0.0.1 - - [29/Mar/2023 22:27:00] \"POST /_dash-update-component HTTP/1.1\" 200 -\n",
      "127.0.0.1 - - [29/Mar/2023 22:27:00] \"POST /_dash-update-component HTTP/1.1\" 200 -\n"
     ]
    }
   ],
   "source": [
    "# Import required libraries\n",
    "import pandas as pd\n",
    "import dash\n",
    "import dash_html_components as html\n",
    "import dash_core_components as dcc\n",
    "from dash.dependencies import Input, Output\n",
    "import plotly.express as px\n",
    "\n",
    "# Read the airline data into pandas dataframe\n",
    "spacex_df = pd.read_csv(\"spacex_launch_dash.csv\")\n",
    "max_payload = spacex_df['Payload Mass (kg)'].max()\n",
    "min_payload = spacex_df['Payload Mass (kg)'].min()\n",
    "\n",
    "# Create a dash application\n",
    "app = dash.Dash(__name__)\n",
    "\n",
    "# Create an app layout\n",
    "app.layout = html.Div(children=[html.H1('SpaceX Launch Records Dashboard',\n",
    "                                        style={'textAlign': 'center', 'color': '#503D36',\n",
    "                                               'font-size': 40}),\n",
    "                                # TASK 1: Add a dropdown list to enable Launch Site selection\n",
    "                                # The default select value is for ALL sites\n",
    "                                dcc.Dropdown(id='site-dropdown',\n",
    "                                options=[\n",
    "                                    {'label': 'All Sites', 'value': 'All Sites'},\n",
    "                                    {'label': 'CCAFS LC-40', 'value': 'CCAFS LC-40'},\n",
    "                                    {'label': 'VAFB SLC-4E', 'value': 'VAFB SLC-4E'},\n",
    "                                    {'label': 'KSC LC-39A', 'value': 'KSC LC-39A'},\n",
    "                                    {'label': 'CCAFS SLC-40', 'value': 'CCAFS SLC-40'}\n",
    "                                ],\n",
    "                                placeholder='Select a Launch Site Here',\n",
    "                                value='All Sites',\n",
    "                                searchable=True\n",
    "                                ),\n",
    "                                html.Br(),\n",
    "\n",
    "                                # TASK 2: Add a pie chart to show the total successful launches count for all sites\n",
    "                                # If a specific launch site was selected, show the Success vs. Failed counts for the site\n",
    "                                html.Div(dcc.Graph(id='success-pie-chart')),\n",
    "                                html.Br(),\n",
    "\n",
    "                                html.P(\"Payload range (Kg):\"),\n",
    "                                # TASK 3: Add a slider to select payload range\n",
    "                                dcc.RangeSlider(id='payload-slider',\n",
    "                                min=0,\n",
    "                                max=10000,\n",
    "                                step=1000,\n",
    "                                marks={i: '{}'.format(i) for i in range(0, 10001, 1000)},\n",
    "                                value=[min_payload, max_payload]),\n",
    "\n",
    "                                # TASK 4: Add a scatter chart to show the correlation between payload and launch success\n",
    "                                html.Div(dcc.Graph(id='success-payload-scatter-chart')),\n",
    "                                ])\n",
    "\n",
    "# TASK 2:\n",
    "# Add a callback function for `site-dropdown` as input, `success-pie-chart` as output\n",
    "@app.callback( Output(component_id='success-pie-chart', component_property='figure'),\n",
    "               Input(component_id='site-dropdown', component_property='value'))\n",
    "def get_pie_chart(launch_site):\n",
    "    if launch_site == 'All Sites':\n",
    "        fig = px.pie(values=spacex_df.groupby('Launch Site')['class'].mean(), \n",
    "                     names=spacex_df.groupby('Launch Site')['Launch Site'].first(),\n",
    "                     title='Total Success Launches by Site')\n",
    "    else:\n",
    "        fig = px.pie(values=spacex_df[spacex_df['Launch Site']==str(launch_site)]['class'].value_counts(normalize=True), \n",
    "                     names=spacex_df['class'].unique(), \n",
    "                     title='Total Success Launches for Site {}'.format(launch_site))\n",
    "    return(fig)\n",
    "\n",
    "# TASK 4:\n",
    "# Add a callback function for `site-dropdown` and `payload-slider` as inputs, `success-payload-scatter-chart` as output\n",
    "@app.callback( Output(component_id='success-payload-scatter-chart', component_property='figure'),\n",
    "              [Input(component_id='site-dropdown', component_property='value'),\n",
    "               Input(component_id='payload-slider',component_property='value')])\n",
    "def get_payload_chart(launch_site, payload_mass):\n",
    "    if launch_site == 'All Sites':\n",
    "        fig = px.scatter(spacex_df[spacex_df['Payload Mass (kg)'].between(payload_mass[0], payload_mass[1])], \n",
    "                x=\"Payload Mass (kg)\",\n",
    "                y=\"class\",\n",
    "                color=\"Booster Version Category\",\n",
    "                hover_data=['Launch Site'],\n",
    "                title='Correlation Between Payload and Success for All Sites')\n",
    "    else:\n",
    "        df = spacex_df[spacex_df['Launch Site']==str(launch_site)]\n",
    "        fig = px.scatter(df[df['Payload Mass (kg)'].between(payload_mass[0], payload_mass[1])], \n",
    "                x=\"Payload Mass (kg)\",\n",
    "                y=\"class\",\n",
    "                color=\"Booster Version Category\",\n",
    "                hover_data=['Launch Site'],\n",
    "                title='Correlation Between Payload and Success for Site {}'.format(launch_site))\n",
    "    return(fig)\n",
    "\n",
    "\n",
    "# Run the app\n",
    "if __name__ == '__main__':\n",
    "    app.run_server()"
   ]
  },
  {
   "cell_type": "code",
   "execution_count": null,
   "metadata": {},
   "outputs": [],
   "source": []
  }
 ],
 "metadata": {
  "colab": {
   "provenance": []
  },
  "kernelspec": {
   "display_name": "Python 3 (ipykernel)",
   "language": "python",
   "name": "python3"
  },
  "language_info": {
   "codemirror_mode": {
    "name": "ipython",
    "version": 3
   },
   "file_extension": ".py",
   "mimetype": "text/x-python",
   "name": "python",
   "nbconvert_exporter": "python",
   "pygments_lexer": "ipython3",
   "version": "3.9.12"
  }
 },
 "nbformat": 4,
 "nbformat_minor": 1
}
